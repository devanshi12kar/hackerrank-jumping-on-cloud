{
 "cells": [
  {
   "cell_type": "code",
   "execution_count": null,
   "metadata": {},
   "outputs": [],
   "source": [
    "#!/bin/python3\n",
    "\n",
    "import math\n",
    "import os\n",
    "import random\n",
    "import re\n",
    "import sys\n",
    "\n",
    "def jumpingOnClouds(c):\n",
    "    c.append('#')\n",
    "    i=0\n",
    "    j=0\n",
    "    jump=0\n",
    "    while(i<n-1):\n",
    "        if(c[i]==c[i+1]==c[i+2]):\n",
    "            jump=jump+1\n",
    "            i+=2\n",
    "        elif(c[i]==c[i+1]):\n",
    "            jump=jump+1\n",
    "            i+=1\n",
    "        else:\n",
    "            j=i+1\n",
    "            while(c[i]!=c[j]):\n",
    "                j+=1\n",
    "            i=j\n",
    "            jump+=1\n",
    "    \n",
    "    return jump\n",
    "\n",
    "\n",
    "if __name__ == '__main__':\n",
    "    fptr = open(os.environ['OUTPUT_PATH'], 'w')\n",
    "\n",
    "    n = int(input())\n",
    "\n",
    "    c = list(map(int, input().rstrip().split()))\n",
    "\n",
    "    result = jumpingOnClouds(c)\n",
    "\n",
    "    fptr.write(str(result) + '\\n')\n",
    "\n",
    "    fptr.close()\n"
   ]
  },
  {
   "cell_type": "code",
   "execution_count": null,
   "metadata": {
    "collapsed": true
   },
   "outputs": [],
   "source": []
  }
 ],
 "metadata": {
  "kernelspec": {
   "display_name": "Python 3",
   "language": "python",
   "name": "python3"
  },
  "language_info": {
   "codemirror_mode": {
    "name": "ipython",
    "version": 3
   },
   "file_extension": ".py",
   "mimetype": "text/x-python",
   "name": "python",
   "nbconvert_exporter": "python",
   "pygments_lexer": "ipython3",
   "version": "3.6.3"
  }
 },
 "nbformat": 4,
 "nbformat_minor": 2
}
